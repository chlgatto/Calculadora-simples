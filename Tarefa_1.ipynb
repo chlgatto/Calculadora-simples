{
  "nbformat": 4,
  "nbformat_minor": 0,
  "metadata": {
    "colab": {
      "provenance": []
    },
    "kernelspec": {
      "name": "python3",
      "display_name": "Python 3"
    },
    "language_info": {
      "name": "python"
    }
  },
  "cells": [
    {
      "cell_type": "code",
      "source": [
        "# Calculadora simples\n",
        "num1 = 0\n",
        "num2 = 0\n",
        "Resultado = 0\n",
        "operacao = ''\n",
        "\n",
        "while True:\n",
        "    try:\n",
        "        num1 = int(input('Digite o numero 1: '))\n",
        "        operacao = input('Digite a operacao (+, -, *, /): ')\n",
        "        num2 = int(input('Digite o numero 2: '))\n",
        "\n",
        "        if operacao == '+':\n",
        "            Resultado = num1 + num2\n",
        "        elif operacao == '-':\n",
        "            Resultado = num1 - num2\n",
        "        elif operacao == '*':\n",
        "            Resultado = num1 * num2\n",
        "        elif operacao == '/':\n",
        "            if num2 != 0:  # Verificar divisão por zero\n",
        "                Resultado = num1 / num2\n",
        "            else:\n",
        "                print('Erro: Divisão por zero não é permitida.')\n",
        "                continue\n",
        "        else:\n",
        "            print('Operação inválida. Tente novamente.')\n",
        "            continue\n",
        "\n",
        "        print(f'{num1} {operacao} {num2} = {Resultado}')\n",
        "\n",
        "    except ValueError:\n",
        "        print('Erro: Insira valores numéricos válidos.')"
      ],
      "metadata": {
        "id": "uNQGnSX96WFu"
      },
      "execution_count": null,
      "outputs": []
    }
  ]
}